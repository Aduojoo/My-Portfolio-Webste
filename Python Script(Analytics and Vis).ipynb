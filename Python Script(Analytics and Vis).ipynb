{
 "cells": [
  {
   "attachments": {},
   "cell_type": "markdown",
   "id": "8e6ea7a1-3275-4ef2-853c-e59a8026dbef",
   "metadata": {},
   "source": [
    "My python Script for data Analysis and Visualisation of Acme co"
   ]
  },
  {
   "attachments": {},
   "cell_type": "markdown",
   "id": "bc4766d3-d0aa-40b6-88c9-00a25797202d",
   "metadata": {},
   "source": [
    "*Name:*"
   ]
  },
  {
   "cell_type": "raw",
   "id": "ca7e30ca-6a23-4af6-9231-a6b668214a41",
   "metadata": {},
   "source": [
    "ADUOJO OBAJE"
   ]
  },
  {
   "attachments": {},
   "cell_type": "markdown",
   "id": "71fce6ff-447f-4f38-9c20-f96cf6ec8be2",
   "metadata": {},
   "source": [
    "---\n",
    "\n",
    "## - Dice Roller\n",
    "\n",
    "**Pakage:** `random`\n",
    "\n",
    "(a)"
   ]
  },
  {
   "cell_type": "code",
   "execution_count": null,
   "id": "b53c0826-4f16-456d-a62b-1bd43ea252fd",
   "metadata": {},
   "outputs": [],
   "source": [
    "import random\n",
    "def roll_dice(number_of_dice, number_of_sides):\n",
    "    outcome = []\n",
    "    print(f'Rolling {number_of_dice} dice with {number_of_sides} sides each ...')\n",
    "    for i in range(number_of_dice):\n",
    "        outcome.append(random.randint(1, number_of_sides))\n",
    "        print(f'rolled {outcome[i]}')\n",
    "    \n",
    "    print(f'The total is {sum(outcome)}')\n",
    "    print(f'The highest number rolled was {max(outcome)}')"
   ]
  },
  {
   "cell_type": "code",
   "execution_count": null,
   "id": "525c1e49-0615-4744-9ffd-d2c1a435a8c3",
   "metadata": {},
   "outputs": [],
   "source": [
    "roll_dice(5,20)"
   ]
  },
  {
   "cell_type": "markdown",
   "id": "57265618-6335-470d-9451-0b86bc256c96",
   "metadata": {},
   "source": [
    "(b)"
   ]
  },
  {
   "cell_type": "code",
   "execution_count": null,
   "id": "bec7fd38",
   "metadata": {},
   "outputs": [],
   "source": [
    "number_of_dice = int(input ('Input the number of dice:'))\n",
    "number_of_sides = int(input ('Input the number of sides:'))\n",
    "if number_of_dice < 0 and  number_of_sides < 0:\n",
    "    print ('input number greater than 0')\n",
    "\n",
    "roll_dice(number_of_dice, number_of_sides)"
   ]
  },
  {
   "attachments": {},
   "cell_type": "markdown",
   "id": "80d13dab-4cb0-4b8c-9d49-5de6f485d681",
   "metadata": {},
   "source": [
    "---\n",
    "\n",
    "##- Company Information\n"
   ]
  },
  {
   "cell_type": "markdown",
   "id": "f965b6ee-8a42-4521-9c90-1ad55509202d",
   "metadata": {},
   "source": [
    "(a)"
   ]
  },
  {
   "cell_type": "code",
   "execution_count": null,
   "id": "c8571840-a9ff-4be3-b21a-fcc549a2e9a8",
   "metadata": {},
   "outputs": [],
   "source": [
    "with open('company.txt') as file:\n",
    "    for line in file:\n",
    "        line = line.strip('\\r\\n')\n",
    "        print(line)"
   ]
  },
  {
   "cell_type": "code",
   "execution_count": null,
   "id": "90993b28",
   "metadata": {},
   "outputs": [],
   "source": [
    "PRODUCTS = ['Note','Phone', 'Tablet', 'RGB Coffee Mug', 'Keyboard', 'PC', 'Webcam']"
   ]
  },
  {
   "cell_type": "code",
   "execution_count": null,
   "id": "3e8e0d7a",
   "metadata": {},
   "outputs": [],
   "source": [
    "for index, element in enumerate(PRODUCTS[1:5]):\n",
    "    print(index, element, sep='\\t')"
   ]
  },
  {
   "cell_type": "markdown",
   "id": "8560d2ff-3b9a-4786-9bdf-b613de2457d0",
   "metadata": {},
   "source": [
    "(b)"
   ]
  },
  {
   "cell_type": "code",
   "execution_count": null,
   "id": "7c781504-ba10-4945-b52f-8144f83285eb",
   "metadata": {},
   "outputs": [],
   "source": [
    "try:\n",
    "    Phone = int(input('Enter index:'))\n",
    "    ans = '82.1 million units'\n",
    "    print(f'ACME Phone has sold {ans}.')\n",
    "except ValueError:\n",
    "    print('There was an error')"
   ]
  },
  {
   "cell_type": "code",
   "execution_count": null,
   "id": "aaf2f0b1",
   "metadata": {},
   "outputs": [],
   "source": [
    "try:\n",
    "    Tablet = int(input('Enter index:'))\n",
    "    ans = '24 million units'\n",
    "    print(f'ACME Tablet has sold {ans}.')\n",
    "except ValueError:\n",
    "    print('There was an error')"
   ]
  },
  {
   "cell_type": "code",
   "execution_count": null,
   "id": "8b082108",
   "metadata": {},
   "outputs": [],
   "source": [
    "try:\n",
    "    RCMug = int(input('Enter index:'))\n",
    "    ans = '9.5 million units'\n",
    "    print(f'ACME RGB Coffee Mug has sold {ans}.')\n",
    "except ValueError:\n",
    "    print('There was an error')"
   ]
  },
  {
   "cell_type": "code",
   "execution_count": null,
   "id": "4d0e897a",
   "metadata": {},
   "outputs": [],
   "source": [
    "try:\n",
    "    Keyboard = int(input('Enter index:'))\n",
    "    ans = '3 million units'\n",
    "    print(f'ACME Keyboard has sold {ans}.')\n",
    "except ValueError:\n",
    "    print('There was an error')"
   ]
  },
  {
   "cell_type": "code",
   "execution_count": null,
   "id": "dd576b48",
   "metadata": {},
   "outputs": [],
   "source": [
    "try:\n",
    "    PC = int(input('Enter index'))\n",
    "    ans = '176 thousand units'\n",
    "    print(f'ACME PC has sold {ans}.')\n",
    "except ValueError:\n",
    "    print('There was an error')"
   ]
  },
  {
   "attachments": {},
   "cell_type": "markdown",
   "id": "fa44f63e-a6d2-4546-81cb-8445144961c2",
   "metadata": {},
   "source": [
    "---\n",
    "\n",
    "##Business Case\n",
    "\n",
    "Here data manipulation and visualisation was achieved.\n",
    "\n",
    "**Packages:** `pandas` and `plotly.express`"
   ]
  },
  {
   "cell_type": "markdown",
   "id": "c3099c1a-d8fc-4076-9601-ea49d5b15c84",
   "metadata": {},
   "source": [
    "(a)"
   ]
  },
  {
   "cell_type": "code",
   "execution_count": null,
   "id": "df10cf10-6e10-44b9-8545-55b561c074a4",
   "metadata": {},
   "outputs": [],
   "source": [
    "import pandas as pd\n",
    "import plotly.express as px\n",
    "df = pd.read_csv('tablets.csv')"
   ]
  },
  {
   "cell_type": "code",
   "execution_count": null,
   "id": "f0e269d1-5cbc-4a37-a975-2d23e1d6415e",
   "metadata": {},
   "outputs": [],
   "source": [
    "df"
   ]
  },
  {
   "cell_type": "markdown",
   "id": "239c6af0-57dd-47aa-a51b-b856566bc52a",
   "metadata": {},
   "source": [
    "(b)"
   ]
  },
  {
   "cell_type": "code",
   "execution_count": null,
   "id": "5d393d4f-bbad-4f87-b76e-8cea6ed33325",
   "metadata": {},
   "outputs": [],
   "source": [
    "df['thousands'].dtype"
   ]
  },
  {
   "cell_type": "code",
   "execution_count": null,
   "id": "195eb049",
   "metadata": {},
   "outputs": [],
   "source": [
    "df[\"price\"]"
   ]
  },
  {
   "cell_type": "code",
   "execution_count": null,
   "id": "91ee7120",
   "metadata": {},
   "outputs": [],
   "source": [
    "df[\"price\"].dtype"
   ]
  },
  {
   "cell_type": "code",
   "execution_count": null,
   "id": "b9522633",
   "metadata": {},
   "outputs": [],
   "source": [
    "df[\"yearofsales\"].dtype"
   ]
  },
  {
   "cell_type": "code",
   "execution_count": null,
   "id": "4b30dff6",
   "metadata": {},
   "outputs": [],
   "source": [
    "df.set_index('model', inplace=True)"
   ]
  },
  {
   "cell_type": "code",
   "execution_count": null,
   "id": "fef2e6b4",
   "metadata": {},
   "outputs": [],
   "source": [
    "df.rename(columns={'thousands' : 'Unit sold'}, inplace=True)"
   ]
  },
  {
   "cell_type": "code",
   "execution_count": null,
   "id": "a4a2250e",
   "metadata": {},
   "outputs": [],
   "source": [
    "df"
   ]
  },
  {
   "cell_type": "code",
   "execution_count": null,
   "id": "5d07e057",
   "metadata": {},
   "outputs": [],
   "source": [
    "df.rename(columns={\"note\" : \"Status\", \"year\" : \"Year\", \"Unit sold\" : \"Unit Sold('thousands')\", \"gen\" : \"Generation\", \"price\" : \"Price\", \"yearofsales\" : \"Sales Year\"}, inplace=True)"
   ]
  },
  {
   "cell_type": "code",
   "execution_count": null,
   "id": "8c80aa1c",
   "metadata": {},
   "outputs": [],
   "source": [
    "df"
   ]
  },
  {
   "cell_type": "code",
   "execution_count": null,
   "id": "8b93c727",
   "metadata": {},
   "outputs": [],
   "source": [
    "df.iloc"
   ]
  },
  {
   "cell_type": "code",
   "execution_count": null,
   "id": "709e5cbb",
   "metadata": {},
   "outputs": [],
   "source": [
    "df.iloc[4:9]"
   ]
  },
  {
   "cell_type": "code",
   "execution_count": null,
   "id": "65b2cf85",
   "metadata": {},
   "outputs": [],
   "source": [
    "df21 = df [df['Year'] == 2021]"
   ]
  },
  {
   "cell_type": "code",
   "execution_count": null,
   "id": "16e97529",
   "metadata": {},
   "outputs": [],
   "source": [
    "df21"
   ]
  },
  {
   "cell_type": "code",
   "execution_count": null,
   "id": "3ac40618",
   "metadata": {},
   "outputs": [],
   "source": [
    "dfs = df [df['Status'] == 'discontinued']"
   ]
  },
  {
   "cell_type": "code",
   "execution_count": null,
   "id": "f008b84c",
   "metadata": {},
   "outputs": [],
   "source": [
    "dfs"
   ]
  },
  {
   "cell_type": "code",
   "execution_count": null,
   "id": "40875ac9",
   "metadata": {},
   "outputs": [],
   "source": [
    "px.bar(df, x=\"Year\", y=\"Unit Sold('thousands')\",\n",
    "color_discrete_sequence=px.colors.qualitative.Alphabet,color=\"Status\",title=\"ACME Tablet Sales\",\n",
    "       hover_data=[\"Year\", \"Generation\", \"Unit Sold('thousands')\", \"Price\", \"Sales Year\", \"Status\"])"
   ]
  },
  {
   "cell_type": "code",
   "execution_count": null,
   "id": "9d8cae22",
   "metadata": {},
   "outputs": [],
   "source": [
    "px.bar(df, x=\"Year\", y=\"Unit Sold('thousands')\", \n",
    "color_discrete_sequence=px.colors.qualitative.Vivid,color=\"Status\",title=\"ACME Tablet Sales\",\n",
    "       hover_data=['Year', 'Generation', \"Unit Sold('thousands')\", 'Price', 'Sales Year', 'Status'])"
   ]
  },
  {
   "cell_type": "code",
   "execution_count": null,
   "id": "0f43c29e",
   "metadata": {},
   "outputs": [],
   "source": [
    "df.reset_index('model', inplace=True)"
   ]
  },
  {
   "cell_type": "code",
   "execution_count": null,
   "id": "7778ce52",
   "metadata": {},
   "outputs": [],
   "source": [
    "df"
   ]
  },
  {
   "cell_type": "code",
   "execution_count": null,
   "id": "c7fa8789",
   "metadata": {},
   "outputs": [],
   "source": [
    "px.line(dfs, x=\"Generation\", y=\"Unit Sold('thousands')\", \n",
    "color_discrete_sequence=px.colors.qualitative.Bold,color=\"Status\",title=\"Sales Trends per introduced\",\n",
    "       hover_data=['Year', 'Generation', \"Unit Sold('thousands')\", 'Price', 'Sales Year', 'Status'])"
   ]
  },
  {
   "cell_type": "code",
   "execution_count": null,
   "id": "1e7f6bff",
   "metadata": {},
   "outputs": [],
   "source": [
    "dfa = df [df['Status'] == 'discontinued']"
   ]
  },
  {
   "cell_type": "code",
   "execution_count": null,
   "id": "0f73b151",
   "metadata": {},
   "outputs": [],
   "source": [
    "dfa"
   ]
  },
  {
   "cell_type": "code",
   "execution_count": null,
   "id": "0782c30e",
   "metadata": {},
   "outputs": [],
   "source": [
    "px.line(dfa, x=\"Generation\", y=\"Unit Sold('thousands')\", \n",
    "color_discrete_sequence=px.colors.qualitative.Dark2,color=\"Status\",title=\"Sales Trends per Discontinued\",\n",
    "       hover_data=['Year', 'Generation', \"Unit Sold('thousands')\", 'Price', 'Sales Year', 'Status'])"
   ]
  }
 ],
 "metadata": {
  "kernelspec": {
   "display_name": "Python 3 (ipykernel)",
   "language": "python",
   "name": "python3"
  },
  "language_info": {
   "codemirror_mode": {
    "name": "ipython",
    "version": 3
   },
   "file_extension": ".py",
   "mimetype": "text/x-python",
   "name": "python",
   "nbconvert_exporter": "python",
   "pygments_lexer": "ipython3",
   "version": "3.9.13"
  }
 },
 "nbformat": 4,
 "nbformat_minor": 5
}
